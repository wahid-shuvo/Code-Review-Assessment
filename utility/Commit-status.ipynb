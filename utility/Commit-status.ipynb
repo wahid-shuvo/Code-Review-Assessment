{
 "cells": [
  {
   "cell_type": "code",
   "execution_count": 4,
   "metadata": {
    "collapsed": true
   },
   "outputs": [],
   "source": [
    "\"\"\"\n",
    "This notebook file is for generating commit status for each author\n",
    "\n",
    "\"\"\"\n",
    "import os\n",
    "import subprocess\n",
    "import re\n",
    "import pandas as pd\n",
    "\n",
    "from config import Static\n",
    "def _get_changeFile_history(comment_id,file_name,current_repo):\n",
    "    change_file_info_df=pd.DataFrame(columns=['commit_id','author_info','commit_date'])\n",
    "    commit_id_list=[]\n",
    "    author_info_list=[]\n",
    "    commit_date_list=[]\n",
    "    cmd=\"git log -- \"+file_name;\n",
    "    process = subprocess.run(cmd,cwd=current_repo, capture_output=True, encoding='utf-8', check=True)\n",
    "    contents=process.stdout.split('\\n\\n')\n",
    "    for i in contents:\n",
    "        date=re.findall(\"Date:.*|\\\\n+?>\",i,re.MULTILINE)\n",
    "        date=''.join(str(elem) for elem in date)\n",
    "        date=re.sub(\"Date:\\\\s+\",'',date)\n",
    "\n",
    "        commit=re.findall(\"commit.*|\\\\n+?>\",i,re.MULTILINE)\n",
    "        commit=''.join(str(elem) for elem in commit)\n",
    "        commit=re.sub(\"commit\\\\s+\",'',commit)\n",
    "\n",
    "        author=re.findall(\"Author:.*|\\\\n+?>\",i,re.MULTILINE)\n",
    "        author=''.join(str(elem) for elem in author)\n",
    "        author=re.sub(\"Author:\\\\s+\",'',author)\n",
    "        author_email=re.findall(\"<.+@.+>\",author,re.MULTILINE)\n",
    "        author_email=''.join(str(elem) for elem in author_email)\n",
    "        author_email=re.sub('>','',author_email)\n",
    "        author_email=re.sub('<','',author_email)\n",
    "        if len(date) and len(commit) and len(author_email):\n",
    "            #print(str(date)+\" \"+str(commit)+\" \"+str(author))\n",
    "            commit_id_list.append(commit)\n",
    "            author_info_list.append(author_email)\n",
    "            commit_date_list.append(date)\n",
    "            if not os.path.exists(current_repo+'commit-stat'):\n",
    "                os.mkdir(current_repo+'commit-stat')\n",
    "            with open(current_repo+'commit-stat\\\\text-file\\\\'+comment_id+'.txt', 'a',encoding='utf 8') as f:\n",
    "                f.write(author_email+'\\t'+commit+'\\n')\n",
    "\n",
    "    change_file_info_df['commit_id']=commit_id_list\n",
    "    change_file_info_df['author_info']=author_info_list\n",
    "    change_file_info_df['commit_date']=commit_date_list\n",
    "\n",
    "    change_file_info_df.to_csv(current_repo+'commit-stat\\\\'+comment_id+'.csv',index=False);\n"
   ]
  },
  {
   "cell_type": "code",
   "execution_count": 11,
   "outputs": [],
   "source": [
    "cloned_repo_path='C:\\\\Users\\\\wahid\\\\PycharmProjects\\\\cloned\\\\numpy\\\\'\n",
    "comment_file_path=\"C:\\\\Users\\\\wahid\\\\CodeReviewHelper\\\\New Dataset\\\\numpy\\\\\"\n",
    "comment_file=\"numpy-comment-file\"\n",
    "file=open(comment_file_path+comment_file+'.txt','r',encoding='utf 8')\n",
    "lines=file.readlines()\n",
    "for line in lines:\n",
    "    file_content=line.split()\n",
    "    change_file_name=file_content[1]\n",
    "    comment_id=str(file_content[0])\n",
    "    _get_changeFile_history(comment_id,change_file_name,cloned_repo_path)"
   ],
   "metadata": {
    "collapsed": false
   }
  },
  {
   "cell_type": "code",
   "execution_count": 1,
   "outputs": [
    {
     "name": "stdout",
     "output_type": "stream",
     "text": [
      "256\n"
     ]
    }
   ],
   "source": [],
   "metadata": {
    "collapsed": false
   }
  },
  {
   "cell_type": "code",
   "execution_count": null,
   "outputs": [],
   "source": [],
   "metadata": {
    "collapsed": false
   }
  }
 ],
 "metadata": {
  "kernelspec": {
   "display_name": "Python 3",
   "language": "python",
   "name": "python3"
  },
  "language_info": {
   "codemirror_mode": {
    "name": "ipython",
    "version": 2
   },
   "file_extension": ".py",
   "mimetype": "text/x-python",
   "name": "python",
   "nbconvert_exporter": "python",
   "pygments_lexer": "ipython2",
   "version": "2.7.6"
  }
 },
 "nbformat": 4,
 "nbformat_minor": 0
}
