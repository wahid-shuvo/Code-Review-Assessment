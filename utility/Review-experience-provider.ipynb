{
 "cells": [
  {
   "cell_type": "code",
   "execution_count": 2,
   "metadata": {
    "collapsed": true
   },
   "outputs": [],
   "source": [
    "import json\n",
    "import os\n",
    "import pandas as pd\n",
    "\n",
    "file_path='C:\\\\Users\\\\wahid\\\\CodeReviewHelper\\\\src\\\\experiment\\\\experiment-analysis\\\\codereview\\\\patchdata\\\\CS\\\\CS\\\\CS\\\\pullreqs\\\\prcommit\\\\'\n",
    "json_file_list=os.listdir(file_path)"
   ]
  },
  {
   "cell_type": "code",
   "execution_count": 3,
   "outputs": [],
   "source": [
    "'''\n",
    "Creating commit file map that contains commit SHA and change file list\n",
    "'''\n",
    "commit_File_Map={}\n",
    "for file in json_file_list:\n",
    "    f=open(file_path+file)\n",
    "    file_content=json.load(f)\n",
    "    for item in file_content:\n",
    "        commit_File_Map[item['SHA']]=list(item['diffHunks'].keys())"
   ],
   "metadata": {
    "collapsed": false,
    "pycharm": {
     "name": "#%%\n"
    }
   }
  },
  {
   "cell_type": "code",
   "execution_count": 4,
   "outputs": [],
   "source": [
    "'''\n",
    "Creating pull request map that contains\n",
    "list of reviewers in a pr\n",
    "list of commit id in a pr\n",
    "'''\n",
    "pr_df=pd.DataFrame(columns=['pr_number','revs_list','commits'])\n",
    "for file in json_file_list:\n",
    "    revs_list=[]\n",
    "    commit_list=[]\n",
    "    f=open(file_path+file)\n",
    "    file_content=json.load(f)\n",
    "    #Checking whether the file is empty\n",
    "    if len(file_content)==0:\n",
    "        continue\n",
    "    for item in file_content:\n",
    "        #print(item['committerLogin'])\n",
    "        if item['committerLogin'] not in revs_list:\n",
    "            if item['committerLogin'] is not None:\n",
    "                revs_list.append(item['committerLogin'])\n",
    "        commit_list.append(item['SHA'])\n",
    "    pr_df=pr_df.append({'pr_number':file_content[0]['PRNumber'],'revs_list':revs_list,'commits':commit_list},ignore_index=True)"
   ],
   "metadata": {
    "collapsed": false,
    "pycharm": {
     "name": "#%%\n"
    }
   }
  },
  {
   "cell_type": "code",
   "execution_count": 25,
   "outputs": [
    {
     "ename": "NameError",
     "evalue": "name 'pr_df' is not defined",
     "output_type": "error",
     "traceback": [
      "\u001B[1;31m---------------------------------------------------------------------------\u001B[0m",
      "\u001B[1;31mNameError\u001B[0m                                 Traceback (most recent call last)",
      "\u001B[1;32m~\\AppData\\Local\\Temp/ipykernel_1728/2498528474.py\u001B[0m in \u001B[0;36m<module>\u001B[1;34m\u001B[0m\n\u001B[0;32m      4\u001B[0m \u001B[0mauthor_login\u001B[0m\u001B[1;33m=\u001B[0m\u001B[1;34m'smeyers-va'\u001B[0m\u001B[1;33m\u001B[0m\u001B[1;33m\u001B[0m\u001B[0m\n\u001B[0;32m      5\u001B[0m \u001B[0mcomment_path\u001B[0m\u001B[1;33m=\u001B[0m\u001B[1;34m\"src/app/domain/listing_handlers/zomato.py\"\u001B[0m\u001B[1;33m\u001B[0m\u001B[1;33m\u001B[0m\u001B[0m\n\u001B[1;32m----> 6\u001B[1;33m \u001B[1;32mfor\u001B[0m \u001B[0mindex\u001B[0m\u001B[1;33m,\u001B[0m\u001B[0mrow\u001B[0m \u001B[1;32min\u001B[0m \u001B[0mpr_df\u001B[0m\u001B[1;33m.\u001B[0m\u001B[0miterrows\u001B[0m\u001B[1;33m(\u001B[0m\u001B[1;33m)\u001B[0m\u001B[1;33m:\u001B[0m\u001B[1;33m\u001B[0m\u001B[1;33m\u001B[0m\u001B[0m\n\u001B[0m\u001B[0;32m      7\u001B[0m     \u001B[0mpr_key\u001B[0m\u001B[1;33m=\u001B[0m\u001B[0mrow\u001B[0m\u001B[1;33m[\u001B[0m\u001B[1;34m'pr_number'\u001B[0m\u001B[1;33m]\u001B[0m\u001B[1;33m\u001B[0m\u001B[1;33m\u001B[0m\u001B[0m\n\u001B[0;32m      8\u001B[0m     \u001B[1;32mif\u001B[0m \u001B[0mpr_key\u001B[0m\u001B[1;33m>\u001B[0m\u001B[0mpr\u001B[0m\u001B[1;33m:\u001B[0m\u001B[1;33m\u001B[0m\u001B[1;33m\u001B[0m\u001B[0m\n",
      "\u001B[1;31mNameError\u001B[0m: name 'pr_df' is not defined"
     ]
    }
   ],
   "source": [
    "reviewedPRs=[]\n",
    "reviewedCommits=[]\n",
    "pr=7295\n",
    "author_login='smeyers-va'\n",
    "comment_path=\"src/app/domain/listing_handlers/zomato.py\"\n",
    "for index,row in pr_df.iterrows():\n",
    "    pr_key=row['pr_number']\n",
    "    if pr_key>pr:\n",
    "        continue\n",
    "    revs=row['revs_list']\n",
    "    if author_login in revs:\n",
    "        reviewedPRs.append(pr_key)\n",
    "        for commit_id in row['commits']:\n",
    "            reviewedCommits.append(commit_id)\n",
    "\n",
    "allReviewedCommit=len(reviewedCommits)\n",
    "targetedReviewCommit=0\n",
    "\n",
    "for commitSHA in reviewedCommits:\n",
    "    if commitSHA in list(commit_File_Map.keys()):\n",
    "      files=commit_File_Map.get(commitSHA)\n",
    "      if 'comment_path' in files:\n",
    "          targetedReviewCommit=targetedReviewCommit+1;"
   ],
   "metadata": {
    "collapsed": false,
    "pycharm": {
     "name": "#%%\n"
    }
   }
  },
  {
   "cell_type": "code",
   "execution_count": 28,
   "outputs": [],
   "source": [],
   "metadata": {
    "collapsed": false,
    "pycharm": {
     "name": "#%%\n"
    }
   }
  }
 ],
 "metadata": {
  "kernelspec": {
   "display_name": "Python 3",
   "language": "python",
   "name": "python3"
  },
  "language_info": {
   "codemirror_mode": {
    "name": "ipython",
    "version": 2
   },
   "file_extension": ".py",
   "mimetype": "text/x-python",
   "name": "python",
   "nbconvert_exporter": "python",
   "pygments_lexer": "ipython2",
   "version": "2.7.6"
  }
 },
 "nbformat": 4,
 "nbformat_minor": 0
}